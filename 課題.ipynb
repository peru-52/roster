{
  "nbformat": 4,
  "nbformat_minor": 0,
  "metadata": {
    "colab": {
      "provenance": []
    },
    "kernelspec": {
      "name": "python3",
      "display_name": "Python 3"
    },
    "language_info": {
      "name": "python"
    }
  },
  "cells": [
    {
      "cell_type": "code",
      "execution_count": 1,
      "metadata": {
        "colab": {
          "base_uri": "https://localhost:8080/"
        },
        "id": "rOcFeb7INIYr",
        "outputId": "81b933c7-dc4f-4947-d921-87e553b1abd4"
      },
      "outputs": [
        {
          "output_type": "stream",
          "name": "stdout",
          "text": [
            "名前:佐藤\n",
            "年齢:23\n",
            "職業:会社員\n",
            "名前:遠藤\n",
            "年齢:34\n",
            "職業:花屋\n",
            "名前:田中\n",
            "年齢:12\n",
            "職業:学生\n",
            "名前:end\n",
            "佐藤 さんは 23 歳です．職業は 会社員 です.\n",
            "遠藤 さんは 34 歳です．職業は 花屋 です.\n",
            "田中 さんは 12 歳です．職業は 学生 です.\n"
          ]
        }
      ],
      "source": [
        "class Person:\n",
        "  def __init__(self,namae,nenrei,sigoto):\n",
        "    self.name = namae\n",
        "    self.age = nenrei\n",
        "    self.work = sigoto\n",
        "\n",
        "  def getName(self):\n",
        "    return self.name\n",
        "\n",
        "  def getAge(self):\n",
        "    return self.age\n",
        "\n",
        "  def getWork(self):\n",
        "    return self.work\n",
        "\n",
        "list = []\n",
        "\n",
        "while True:\n",
        "  n = input(\"名前:\")\n",
        "  if n == \"end\":\n",
        "      break\n",
        "  a = int(input(\"年齢:\"))\n",
        "  b = input(\"職業:\")\n",
        "  list.append(Person(n,a,b))\n",
        "\n",
        "\n",
        "for p in list:\n",
        "  print(p.getName(), \"さんは\", p.getAge(), \"歳です．職業は\",p.getWork(),\"です.\")"
      ]
    }
  ]
}